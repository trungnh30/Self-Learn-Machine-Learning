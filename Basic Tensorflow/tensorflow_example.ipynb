{
 "cells": [
  {
   "cell_type": "markdown",
   "metadata": {},
   "source": [
    "# Cách viết chương trình theo Tensorflow\n",
    "## Cài đặt chương trình theo hàm cost\n",
    "\n",
    "Tìm giá trị nhỏ nhất của hàm sau: J(w) = w^2 - 10w +25\n",
    "\n",
    "1. Khởi tạo biến\n",
    "2. Bắt đầu session\n",
    "3. Giải thuật\n",
    "4. Close session"
   ]
  },
  {
   "cell_type": "code",
   "execution_count": 5,
   "metadata": {
    "scrolled": true
   },
   "outputs": [
    {
     "name": "stdout",
     "output_type": "stream",
     "text": [
      "4.9999886\n"
     ]
    }
   ],
   "source": [
    "import numpy as np\n",
    "import tensorflow as tf\n",
    "coefficients = np.array([[1.0],[-10],[25.0]])\n",
    "\n",
    "w = tf.Variable(initial_value = 0, dtype=tf.float32)\n",
    "x = tf.placeholder(dtype=tf.float32, shape=(3,1))\n",
    "\n",
    "cost = w**2*x[0]  + w*x[1] + x[2]\n",
    "train = tf.train.GradientDescentOptimizer(0.01).minimize(cost)\n",
    "\n",
    "init = tf.global_variables_initializer()\n",
    "session = tf.Session()\n",
    "session.run(init)\n",
    "\n",
    "for i in range(1000):\n",
    "  session.run(train, feed_dict ={x: coefficients})\n",
    "  \n",
    "print(session.run(w))\n",
    "\n",
    "session.close()"
   ]
  },
  {
   "cell_type": "markdown",
   "metadata": {},
   "source": [
    "## Cách viết Session để dễ debug\n",
    "```python\n",
    "init = tf.global_variables_initializer()\n",
    "session = tf.Session()\n",
    "session.run(init)\n",
    "print(session.run(w))\n",
    "session.close()\n",
    "```\n",
    "⋅⋅⋅thành\n",
    "```python\n",
    "with tf.Session():\n",
    "    session.run(init)\n",
    "    print(session.run(w))\n",
    "```"
   ]
  },
  {
   "cell_type": "markdown",
   "metadata": {},
   "source": [
    "### Normal execution\n",
    "Đây là mô hình tĩnh (statics model)."
   ]
  },
  {
   "cell_type": "markdown",
   "metadata": {},
   "source": [
    "```python\n",
    "import tensorflow as tf\n",
    "node_two = tf.constant(2)\n",
    "node_three = tf.constant(3)\n",
    "sum_node = node_two + node_three\n",
    "sess = tf.Session()\n",
    "print(sess.run(sum_node))\n",
    "session.close()\n",
    "```\n",
    "> Output: 5"
   ]
  },
  {
   "cell_type": "markdown",
   "metadata": {},
   "source": [
    "### Eager Execution\n",
    "Đây là mô hình động, được Google tạo ra để người mới sử dụng tensorflow có thể dễ dàng tiếp cận và phục vụ công việc học tập. Còn nếu để sử dụng vào để làm product thì sẽ không sử dụng chúng bây giờ (Today: 23/11/2018)"
   ]
  },
  {
   "cell_type": "markdown",
   "metadata": {},
   "source": [
    "```python\n",
    "import tensorflow as tf\n",
    "tf.enable_eager_execution()\n",
    "node_two = tf.constant(2)\n",
    "node_three = tf.constant(3)\n",
    "sum_node = node_two + node_three\n",
    "print(sum_node)\n",
    "```\n",
    "> Output: tf.Tensor(5, shape=(), dtype=int32)"
   ]
  }
 ],
 "metadata": {
  "kernelspec": {
   "display_name": "Python 3",
   "language": "python",
   "name": "python3"
  },
  "language_info": {
   "codemirror_mode": {
    "name": "ipython",
    "version": 3
   },
   "file_extension": ".py",
   "mimetype": "text/x-python",
   "name": "python",
   "nbconvert_exporter": "python",
   "pygments_lexer": "ipython3",
   "version": "3.6.5"
  }
 },
 "nbformat": 4,
 "nbformat_minor": 2
}
