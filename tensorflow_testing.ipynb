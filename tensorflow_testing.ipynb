{
  "nbformat": 4,
  "nbformat_minor": 0,
  "metadata": {
    "colab": {
      "name": "tensorflow_testing.ipynb",
      "version": "0.3.2",
      "provenance": []
    },
    "kernelspec": {
      "name": "python3",
      "display_name": "Python 3"
    }
  },
  "cells": [
    {
      "metadata": {
        "id": "DcWdIMjF4TAG",
        "colab_type": "text"
      },
      "cell_type": "markdown",
      "source": [
        "Cài đặt chương trình theo hàm cost\n",
        "\n",
        "TÌm giá trị nhỏ nhất của hàm sau: J(w) = w^2 - 10w +25\n",
        "\n",
        "1. Khởi tạo biến\n",
        "2. Bắt đầu session\n",
        "3. Giải thuật\n",
        "4. Close session"
      ]
    },
    {
      "metadata": {
        "id": "ef-RIy1S27rj",
        "colab_type": "code",
        "colab": {
          "base_uri": "https://localhost:8080/",
          "height": 34
        },
        "outputId": "e5c1ea8e-90ce-41be-e594-9e34d7b1e4b8"
      },
      "cell_type": "code",
      "source": [
        "import numpy as np\n",
        "import tensorflow as tf\n",
        "coefficients = np.array([[1.0],[-10],[25.0]])\n",
        "\n",
        "w = tf.Variable(initial_value = 0, dtype=tf.float32)\n",
        "x = tf.placeholder(dtype=tf.float32, shape=(3,1))\n",
        "\n",
        "cost = w**2*x[0]  + w*x[1] + x[2]\n",
        "train = tf.train.GradientDescentOptimizer(0.01).minimize(cost)\n",
        "\n",
        "init = tf.global_variables_initializer()\n",
        "session = tf.Session()\n",
        "session.run(init)\n",
        "\n",
        "for i in range(1000):\n",
        "  session.run(train, feed_dict ={x: coefficients})\n",
        "  \n",
        "print(session.run(w))\n",
        "\n",
        "session.close()"
      ],
      "execution_count": 6,
      "outputs": [
        {
          "output_type": "stream",
          "text": [
            "4.999988\n"
          ],
          "name": "stdout"
        }
      ]
    },
    {
      "metadata": {
        "id": "HpLP-ZA83-lw",
        "colab_type": "code",
        "colab": {}
      },
      "cell_type": "code",
      "source": [
        "\n"
      ],
      "execution_count": 0,
      "outputs": []
    }
  ]
}